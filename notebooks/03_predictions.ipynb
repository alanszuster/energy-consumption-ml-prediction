{
 "cells": [
  {
   "cell_type": "markdown",
   "id": "143891ad",
   "metadata": {},
   "source": [
    "# Energy Consumption Predictions\n",
    "\n",
    "Generate and visualize future energy consumption predictions."
   ]
  },
  {
   "cell_type": "code",
   "execution_count": null,
   "id": "31b11fad",
   "metadata": {},
   "outputs": [],
   "source": [
    "import pandas as pd\n",
    "import numpy as np\n",
    "import matplotlib.pyplot as plt\n",
    "import seaborn as sns\n",
    "import sys\n",
    "sys.path.append('../')\n",
    "from src.data_processing import load_data, process_data\n",
    "from src.model import EnergyConsumptionPredictor\n",
    "\n",
    "plt.style.use('seaborn-v0_8')\n",
    "plt.rcParams['figure.figsize'] = (12, 6)"
   ]
  },
  {
   "cell_type": "code",
   "execution_count": null,
   "id": "37a04937",
   "metadata": {},
   "outputs": [],
   "source": [
    "# Load and process historical data\n",
    "data = load_data('../data/energy_consumption.csv')\n",
    "processed_data = process_data(data)\n",
    "\n",
    "print(f\"Historical data: {len(processed_data)} records\")\n",
    "print(f\"Period: {processed_data['Date'].min()} to {processed_data['Date'].max()}\")\n",
    "processed_data.tail()"
   ]
  },
  {
   "cell_type": "code",
   "execution_count": null,
   "id": "f0d67e33",
   "metadata": {},
   "outputs": [],
   "source": [
    "# Train the model\n",
    "predictor = EnergyConsumptionPredictor()\n",
    "performance = predictor.train(processed_data)\n",
    "\n",
    "print(f\"Model trained: {performance['model_name']}\")\n",
    "print(f\"R² Score: {performance['r2_score']:.3f}\")\n",
    "print(f\"RMSE: {performance['rmse']:.2f} kWh\")\n",
    "print(f\"MAE: {performance['mae']:.2f} kWh\")"
   ]
  },
  {
   "cell_type": "code",
   "execution_count": null,
   "id": "4565783d",
   "metadata": {},
   "outputs": [],
   "source": [
    "# Generate 12-month predictions\n",
    "predictions_df = predictor.predict_future(months=12)\n",
    "print(f\"Generated {len(predictions_df)} monthly predictions\")\n",
    "predictions_df.head()"
   ]
  },
  {
   "cell_type": "code",
   "execution_count": null,
   "id": "63d07935",
   "metadata": {},
   "outputs": [],
   "source": [
    "# Plot historical vs predictions\n",
    "fig, (ax1, ax2) = plt.subplots(2, 1, figsize=(15, 10))\n",
    "\n",
    "# Consumption\n",
    "ax1.plot(processed_data['Date'], processed_data['Consumption'],\n",
    "         marker='o', label='Historical', linewidth=2, alpha=0.8)\n",
    "ax1.plot(predictions_df['Date'], predictions_df['Predicted_Consumption'],\n",
    "         marker='s', label='Predicted', linewidth=2, alpha=0.8, color='orange')\n",
    "ax1.set_title('Energy Consumption: Historical vs Predicted')\n",
    "ax1.set_ylabel('Consumption (kWh)')\n",
    "ax1.legend()\n",
    "ax1.grid(True, alpha=0.3)\n",
    "\n",
    "# Costs\n",
    "ax2.plot(processed_data['Date'], processed_data['Cost'],\n",
    "         marker='o', label='Historical', linewidth=2, alpha=0.8, color='green')\n",
    "ax2.plot(predictions_df['Date'], predictions_df['Predicted_Cost'],\n",
    "         marker='s', label='Predicted', linewidth=2, alpha=0.8, color='red')\n",
    "ax2.set_title('Energy Costs: Historical vs Predicted')\n",
    "ax2.set_ylabel('Cost (PLN)')\n",
    "ax2.set_xlabel('Date')\n",
    "ax2.legend()\n",
    "ax2.grid(True, alpha=0.3)\n",
    "\n",
    "# Format x-axis\n",
    "for ax in [ax1, ax2]:\n",
    "    ax.tick_params(axis='x', rotation=45)\n",
    "\n",
    "plt.tight_layout()\n",
    "plt.show()"
   ]
  },
  {
   "cell_type": "code",
   "execution_count": null,
   "id": "f50fd158",
   "metadata": {},
   "outputs": [],
   "source": [
    "# Seasonal analysis\n",
    "predictions_df['Season'] = predictions_df['Month'].map({\n",
    "    12: 'Winter', 1: 'Winter', 2: 'Winter',\n",
    "    3: 'Spring', 4: 'Spring', 5: 'Spring',\n",
    "    6: 'Summer', 7: 'Summer', 8: 'Summer',\n",
    "    9: 'Autumn', 10: 'Autumn', 11: 'Autumn'\n",
    "})\n",
    "\n",
    "seasonal_summary = predictions_df.groupby('Season').agg({\n",
    "    'Predicted_Consumption': ['mean', 'sum'],\n",
    "    'Predicted_Cost': ['mean', 'sum']\n",
    "}).round(0)\n",
    "\n",
    "print(\"Seasonal predictions summary:\")\n",
    "print(seasonal_summary)"
   ]
  },
  {
   "cell_type": "code",
   "execution_count": null,
   "id": "0d9fd1f1",
   "metadata": {},
   "outputs": [],
   "source": [
    "# Monthly breakdown visualization\n",
    "fig, (ax1, ax2) = plt.subplots(1, 2, figsize=(15, 6))\n",
    "\n",
    "# Monthly consumption\n",
    "months = ['Jun', 'Jul', 'Aug', 'Sep', 'Oct', 'Nov', 'Dec', 'Jan', 'Feb', 'Mar', 'Apr', 'May']\n",
    "ax1.bar(months, predictions_df['Predicted_Consumption'], alpha=0.7, color='skyblue')\n",
    "ax1.set_title('Predicted Monthly Consumption')\n",
    "ax1.set_ylabel('Consumption (kWh)')\n",
    "ax1.tick_params(axis='x', rotation=45)\n",
    "\n",
    "# Seasonal comparison\n",
    "seasonal_avg = predictions_df.groupby('Season')['Predicted_Consumption'].mean()\n",
    "ax2.pie(seasonal_avg.values, labels=seasonal_avg.index, autopct='%1.1f%%', startangle=90)\n",
    "ax2.set_title('Consumption by Season')\n",
    "\n",
    "plt.tight_layout()\n",
    "plt.show()"
   ]
  },
  {
   "cell_type": "code",
   "execution_count": null,
   "id": "1a1eaf51",
   "metadata": {},
   "outputs": [],
   "source": [
    "# Cost analysis\n",
    "total_predicted_cost = predictions_df['Predicted_Cost'].sum()\n",
    "avg_monthly_cost = predictions_df['Predicted_Cost'].mean()\n",
    "total_predicted_consumption = predictions_df['Predicted_Consumption'].sum()\n",
    "\n",
    "print(f\"12-month forecast summary:\")\n",
    "print(f\"Total consumption: {total_predicted_consumption:.0f} kWh\")\n",
    "print(f\"Total cost: {total_predicted_cost:.0f} PLN\")\n",
    "print(f\"Average monthly cost: {avg_monthly_cost:.0f} PLN\")\n",
    "print(f\"Cost per kWh: {total_predicted_cost/total_predicted_consumption:.2f} PLN\")\n",
    "\n",
    "# Compare with historical averages\n",
    "hist_avg_monthly = processed_data['Consumption'].mean()\n",
    "hist_avg_cost = processed_data['Cost'].mean()\n",
    "\n",
    "print(f\"\\nComparison with historical averages:\")\n",
    "print(f\"Consumption change: {((predictions_df['Predicted_Consumption'].mean() - hist_avg_monthly) / hist_avg_monthly * 100):+.1f}%\")\n",
    "print(f\"Cost change: {((avg_monthly_cost - hist_avg_cost) / hist_avg_cost * 100):+.1f}%\")"
   ]
  },
  {
   "cell_type": "code",
   "execution_count": null,
   "id": "eabc6c00",
   "metadata": {},
   "outputs": [],
   "source": [
    "# Export predictions\n",
    "predictions_df.to_csv('../results/predictions_12_months.csv', index=False)\n",
    "print(\"Predictions saved to ../results/predictions_12_months.csv\")\n",
    "\n",
    "# Summary table\n",
    "summary_table = predictions_df[['Date', 'Predicted_Consumption', 'Predicted_Cost', 'Season']].copy()\n",
    "summary_table['Date'] = summary_table['Date'].dt.strftime('%B %Y')\n",
    "summary_table.columns = ['Month', 'Consumption (kWh)', 'Cost (PLN)', 'Season']\n",
    "print(\"\\nPredictions table:\")\n",
    "print(summary_table.to_string(index=False))"
   ]
  }
 ],
 "metadata": {
  "language_info": {
   "name": "python"
  }
 },
 "nbformat": 4,
 "nbformat_minor": 5
}
