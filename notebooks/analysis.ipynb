{
 "cells": [
  {
   "cell_type": "markdown",
   "id": "08ed7d25",
   "metadata": {},
   "source": [
    "# Analiza predykcji zużycia energii elektrycznej\n",
    "Notebook prezentuje przetwarzanie danych, trenowanie modelu oraz wizualizację wyników."
   ]
  },
  {
   "cell_type": "code",
   "execution_count": null,
   "id": "4edeec6c",
   "metadata": {},
   "outputs": [],
   "source": [
    "import pandas as pd\n",
    "from src.data_processing import load_data, process_data\n",
    "from src.model import train_model, predict_energy_consumption\n",
    "from src.visualization import plot_consumption, plot_costs, plot_predictions, display_monthly_summary\n",
    "import logging\n",
    "\n",
    "logging.basicConfig(level=logging.INFO)\n",
    "logger = logging.getLogger(__name__)\n",
    "\n",
    "# Wczytanie i przetworzenie danych\n",
    "data = load_data('data/energy_consumption.csv')\n",
    "processed_data = process_data(data)\n",
    "\n",
    "# Wizualizacja danych historycznych\n",
    "plot_consumption(processed_data)\n",
    "plot_costs(processed_data)\n",
    "\n",
    "# Trenowanie modelu\n",
    "poly, model = train_model(processed_data)\n",
    "future_dates = pd.date_range(start=processed_data['Date'].max() + pd.Timedelta(days=1), periods=12, freq='ME')\n",
    "predictions = predict_energy_consumption(poly, model, future_dates)\n",
    "\n",
    "# Wyświetlenie podsumowania i wykresu prognoz\n",
    "display_monthly_summary(future_dates, predictions)\n",
    "plot_predictions(future_dates, predictions)"
   ]
  }
 ],
 "metadata": {
  "language_info": {
   "name": "python"
  }
 },
 "nbformat": 4,
 "nbformat_minor": 5
}
