{
 "cells": [
  {
   "cell_type": "markdown",
   "id": "0f11f1e3",
   "metadata": {},
   "source": [
    "# Energy Data Exploration\n",
    "\n",
    "Quick look at the energy consumption data to understand patterns and trends."
   ]
  },
  {
   "cell_type": "code",
   "execution_count": null,
   "id": "d58865a2",
   "metadata": {},
   "outputs": [],
   "source": [
    "import pandas as pd\n",
    "import matplotlib.pyplot as plt\n",
    "import numpy as np\n",
    "import seaborn as sns\n",
    "\n",
    "plt.style.use('seaborn-v0_8')\n",
    "plt.rcParams['figure.figsize'] = (12, 6)"
   ]
  },
  {
   "cell_type": "code",
   "execution_count": null,
   "id": "8810e3f1",
   "metadata": {},
   "outputs": [],
   "source": [
    "# Load the data\n",
    "df = pd.read_csv('../data/energy_consumption.csv', parse_dates=['Date'], dayfirst=True)\n",
    "print(f\"Data shape: {df.shape}\")\n",
    "print(f\"Date range: {df['Date'].min()} to {df['Date'].max()}\")\n",
    "df.head()"
   ]
  },
  {
   "cell_type": "code",
   "execution_count": null,
   "id": "6c1024f2",
   "metadata": {},
   "outputs": [],
   "source": [
    "# Basic info about the dataset\n",
    "df.info()\n",
    "print(\"\\nMissing values:\")\n",
    "print(df.isnull().sum())"
   ]
  },
  {
   "cell_type": "code",
   "execution_count": null,
   "id": "61300e8b",
   "metadata": {},
   "outputs": [],
   "source": [
    "# Calculate consumption if needed\n",
    "if 'Consumption' not in df.columns or df['Consumption'].sum() == 0:\n",
    "    df['Consumption'] = df['Reading'].diff().fillna(0)\n",
    "    df = df[df['Consumption'] >= 0]\n",
    "\n",
    "print(f\"Consumption stats:\")\n",
    "print(df['Consumption'].describe())"
   ]
  },
  {
   "cell_type": "code",
   "execution_count": null,
   "id": "819b6b65",
   "metadata": {},
   "outputs": [],
   "source": [
    "# Plot consumption over time\n",
    "plt.figure(figsize=(15, 8))\n",
    "\n",
    "plt.subplot(2, 2, 1)\n",
    "plt.plot(df['Date'], df['Consumption'], marker='o')\n",
    "plt.title('Energy Consumption Over Time')\n",
    "plt.ylabel('kWh')\n",
    "plt.xticks(rotation=45)\n",
    "\n",
    "plt.subplot(2, 2, 2)\n",
    "plt.hist(df['Consumption'], bins=10, alpha=0.7)\n",
    "plt.title('Consumption Distribution')\n",
    "plt.xlabel('kWh')\n",
    "\n",
    "plt.subplot(2, 2, 3)\n",
    "monthly_avg = df.groupby(df['Date'].dt.month)['Consumption'].mean()\n",
    "monthly_avg.plot(kind='bar')\n",
    "plt.title('Average Monthly Consumption')\n",
    "plt.xlabel('Month')\n",
    "plt.ylabel('kWh')\n",
    "\n",
    "plt.subplot(2, 2, 4)\n",
    "plt.boxplot([df[df['Date'].dt.month.isin([12,1,2])]['Consumption'],\n",
    "             df[df['Date'].dt.month.isin([6,7,8])]['Consumption']],\n",
    "            labels=['Winter', 'Summer'])\n",
    "plt.title('Seasonal Comparison')\n",
    "plt.ylabel('kWh')\n",
    "\n",
    "plt.tight_layout()\n",
    "plt.show()"
   ]
  },
  {
   "cell_type": "code",
   "execution_count": null,
   "id": "ae3bb250",
   "metadata": {},
   "outputs": [],
   "source": [
    "# Check for trends and seasonality\n",
    "df['Month'] = df['Date'].dt.month\n",
    "df['Year'] = df['Date'].dt.year\n",
    "\n",
    "print(\"Average consumption by month:\")\n",
    "monthly_stats = df.groupby('Month')['Consumption'].agg(['mean', 'std']).round(1)\n",
    "print(monthly_stats)\n",
    "\n",
    "print(\"\\nYear over year comparison:\")\n",
    "yearly_stats = df.groupby('Year')['Consumption'].agg(['mean', 'sum']).round(1)\n",
    "print(yearly_stats)"
   ]
  },
  {
   "cell_type": "code",
   "execution_count": null,
   "id": "5b6cab0a",
   "metadata": {},
   "outputs": [],
   "source": [
    "# Look for any anomalies or outliers\n",
    "Q1 = df['Consumption'].quantile(0.25)\n",
    "Q3 = df['Consumption'].quantile(0.75)\n",
    "IQR = Q3 - Q1\n",
    "lower_bound = Q1 - 1.5 * IQR\n",
    "upper_bound = Q3 + 1.5 * IQR\n",
    "\n",
    "outliers = df[(df['Consumption'] < lower_bound) | (df['Consumption'] > upper_bound)]\n",
    "print(f\"Found {len(outliers)} potential outliers:\")\n",
    "if len(outliers) > 0:\n",
    "    print(outliers[['Date', 'Consumption']])"
   ]
  }
 ],
 "metadata": {
  "language_info": {
   "name": "python"
  }
 },
 "nbformat": 4,
 "nbformat_minor": 5
}
